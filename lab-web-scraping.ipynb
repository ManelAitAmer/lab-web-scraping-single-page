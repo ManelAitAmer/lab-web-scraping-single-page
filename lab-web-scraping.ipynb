{
 "cells": [
  {
   "cell_type": "code",
   "execution_count": 11,
   "id": "a129dd24",
   "metadata": {},
   "outputs": [],
   "source": [
    "import pandas as pd\n",
    "import requests\n",
    "from bs4 import BeautifulSoup"
   ]
  },
  {
   "cell_type": "code",
   "execution_count": 3,
   "id": "c050184f",
   "metadata": {},
   "outputs": [],
   "source": [
    "url='https://www.billboard.com/charts/hot-100'"
   ]
  },
  {
   "cell_type": "code",
   "execution_count": 4,
   "id": "e9b466a9",
   "metadata": {},
   "outputs": [],
   "source": [
    "r = requests.get(url)"
   ]
  },
  {
   "cell_type": "code",
   "execution_count": 5,
   "id": "b40e4ce2",
   "metadata": {},
   "outputs": [
    {
     "data": {
      "text/plain": [
       "200"
      ]
     },
     "execution_count": 5,
     "metadata": {},
     "output_type": "execute_result"
    }
   ],
   "source": [
    "r.status_code"
   ]
  },
  {
   "cell_type": "code",
   "execution_count": 7,
   "id": "31e6cdd5",
   "metadata": {},
   "outputs": [],
   "source": [
    "html = r.content"
   ]
  },
  {
   "cell_type": "code",
   "execution_count": 8,
   "id": "c16aa851",
   "metadata": {},
   "outputs": [],
   "source": [
    "soup = BeautifulSoup(html, 'html.parser')"
   ]
  },
  {
   "cell_type": "code",
   "execution_count": 9,
   "id": "7b7c5a7d",
   "metadata": {},
   "outputs": [],
   "source": [
    "result = soup.find_all('div', class_='o-chart-results-list-row-container')"
   ]
  },
  {
   "cell_type": "code",
   "execution_count": 10,
   "id": "88e17edb",
   "metadata": {},
   "outputs": [],
   "source": [
    "data = []\n",
    "for res in result: \n",
    "    song_name = res.find('h3').text.strip()\n",
    "    artist = res.find('h3').find_next('span').text.strip()\n",
    "    data.append({'Song': song_name, 'Artist': artist})"
   ]
  },
  {
   "cell_type": "code",
   "execution_count": 12,
   "id": "bb4b1a26",
   "metadata": {},
   "outputs": [
    {
     "data": {
      "text/html": [
       "<div>\n",
       "<style scoped>\n",
       "    .dataframe tbody tr th:only-of-type {\n",
       "        vertical-align: middle;\n",
       "    }\n",
       "\n",
       "    .dataframe tbody tr th {\n",
       "        vertical-align: top;\n",
       "    }\n",
       "\n",
       "    .dataframe thead th {\n",
       "        text-align: right;\n",
       "    }\n",
       "</style>\n",
       "<table border=\"1\" class=\"dataframe\">\n",
       "  <thead>\n",
       "    <tr style=\"text-align: right;\">\n",
       "      <th></th>\n",
       "      <th>Song</th>\n",
       "      <th>Artist</th>\n",
       "    </tr>\n",
       "  </thead>\n",
       "  <tbody>\n",
       "    <tr>\n",
       "      <th>0</th>\n",
       "      <td>A Bar Song (Tipsy)</td>\n",
       "      <td>Shaboozey</td>\n",
       "    </tr>\n",
       "    <tr>\n",
       "      <th>1</th>\n",
       "      <td>I Had Some Help</td>\n",
       "      <td>Post Malone Featuring Morgan Wallen</td>\n",
       "    </tr>\n",
       "    <tr>\n",
       "      <th>2</th>\n",
       "      <td>Not Like Us</td>\n",
       "      <td>Kendrick Lamar</td>\n",
       "    </tr>\n",
       "    <tr>\n",
       "      <th>3</th>\n",
       "      <td>Million Dollar Baby</td>\n",
       "      <td>Tommy Richman</td>\n",
       "    </tr>\n",
       "    <tr>\n",
       "      <th>4</th>\n",
       "      <td>Espresso</td>\n",
       "      <td>Sabrina Carpenter</td>\n",
       "    </tr>\n",
       "    <tr>\n",
       "      <th>...</th>\n",
       "      <td>...</td>\n",
       "      <td>...</td>\n",
       "    </tr>\n",
       "    <tr>\n",
       "      <th>95</th>\n",
       "      <td>Bass Boat</td>\n",
       "      <td>Zach Bryan</td>\n",
       "    </tr>\n",
       "    <tr>\n",
       "      <th>96</th>\n",
       "      <td>Think I'm In Love With You</td>\n",
       "      <td>Chris Stapleton</td>\n",
       "    </tr>\n",
       "    <tr>\n",
       "      <th>97</th>\n",
       "      <td>Beautiful As You</td>\n",
       "      <td>Thomas Rhett</td>\n",
       "    </tr>\n",
       "    <tr>\n",
       "      <th>98</th>\n",
       "      <td>Sweet Dreams</td>\n",
       "      <td>Koe Wetzel</td>\n",
       "    </tr>\n",
       "    <tr>\n",
       "      <th>99</th>\n",
       "      <td>Sandpaper</td>\n",
       "      <td>Zach Bryan Featuring Bruce Springsteen</td>\n",
       "    </tr>\n",
       "  </tbody>\n",
       "</table>\n",
       "<p>100 rows × 2 columns</p>\n",
       "</div>"
      ],
      "text/plain": [
       "                          Song                                  Artist\n",
       "0           A Bar Song (Tipsy)                               Shaboozey\n",
       "1              I Had Some Help     Post Malone Featuring Morgan Wallen\n",
       "2                  Not Like Us                          Kendrick Lamar\n",
       "3          Million Dollar Baby                           Tommy Richman\n",
       "4                     Espresso                       Sabrina Carpenter\n",
       "..                         ...                                     ...\n",
       "95                   Bass Boat                              Zach Bryan\n",
       "96  Think I'm In Love With You                         Chris Stapleton\n",
       "97            Beautiful As You                            Thomas Rhett\n",
       "98                Sweet Dreams                              Koe Wetzel\n",
       "99                   Sandpaper  Zach Bryan Featuring Bruce Springsteen\n",
       "\n",
       "[100 rows x 2 columns]"
      ]
     },
     "execution_count": 12,
     "metadata": {},
     "output_type": "execute_result"
    }
   ],
   "source": [
    "top_100_songs = pd.DataFrame(data) \n",
    "top_100_songs"
   ]
  },
  {
   "cell_type": "code",
   "execution_count": 13,
   "id": "d76fd01b",
   "metadata": {},
   "outputs": [
    {
     "data": {
      "text/plain": [
       "Artist\n",
       "Eminem                                      7\n",
       "Zach Bryan                                  5\n",
       "Chappell Roan                               5\n",
       "Billie Eilish                               4\n",
       "Sabrina Carpenter                           3\n",
       "                                           ..\n",
       "Megan Thee Stallion Featuring Yuki Chiba    1\n",
       "Ella Langley Featuring Riley Green          1\n",
       "FloyyMenor X Cris Mj                        1\n",
       "Nate Smith                                  1\n",
       "Zach Bryan Featuring Bruce Springsteen      1\n",
       "Name: count, Length: 73, dtype: int64"
      ]
     },
     "execution_count": 13,
     "metadata": {},
     "output_type": "execute_result"
    }
   ],
   "source": [
    "top_100_songs.Artist.value_counts()"
   ]
  },
  {
   "cell_type": "code",
   "execution_count": null,
   "id": "623beab8",
   "metadata": {},
   "outputs": [],
   "source": []
  }
 ],
 "metadata": {
  "kernelspec": {
   "display_name": "Python 3 (ipykernel)",
   "language": "python",
   "name": "python3"
  },
  "language_info": {
   "codemirror_mode": {
    "name": "ipython",
    "version": 3
   },
   "file_extension": ".py",
   "mimetype": "text/x-python",
   "name": "python",
   "nbconvert_exporter": "python",
   "pygments_lexer": "ipython3",
   "version": "3.11.5"
  }
 },
 "nbformat": 4,
 "nbformat_minor": 5
}
